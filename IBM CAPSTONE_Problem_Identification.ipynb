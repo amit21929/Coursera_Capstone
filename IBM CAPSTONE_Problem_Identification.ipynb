{
 "cells": [
  {
   "cell_type": "markdown",
   "metadata": {},
   "source": [
    "# CAPSTONE PROJECT: ACCIDENT SEVERITY PREDICTION"
   ]
  },
  {
   "cell_type": "markdown",
   "metadata": {},
   "source": [
    "## 1.\tPROBLEM IDENTIFICATION"
   ]
  },
  {
   "cell_type": "markdown",
   "metadata": {},
   "source": [
    "### Seattle is a seaport city on the West Coast of the United States. Average daily traffic in this town is around 1 Million [1]. Every year approx. 200 fatal and serious injuries are caused on the road of Seattle. Including in these figures are fatal accident which has been in double digit since long time [2]. The goal of Seattle Department of Transportation is to reach zero accident each year. Accident on these roads are caused by various factors like weather, road condition, influence of alcohol etc. \n",
    "\n",
    "### Problem statement of this project is to predict the accident severity so that target audience would drive more carefully or even change his/ her travel plan for given conditions.\n",
    "\n",
    "### Target audience for this exercise are daily commuters who use their personal vehicle to travel in Seattle and Seattle Department of Transportation whose aim is to reach zero accident for an year.\n",
    "\n",
    "### Solving of this problem is important because it will help target audience in reducing their risk of meeting with an accident by predicting which set of conditions are safe to travel on a particular day. Reducing accident will also decrease traffic jams on the road. \n",
    "\n",
    "### Links:\n",
    "1.\thttps://www.seattle.gov/Documents/Departments/SDOT/About/DocumentLibrary/Reports/2018_Traffic_Report.pdf\n",
    "2.\thttps://www.seattletimes.com/seattle-news/transportation/seattle-traffic-deaths-and-injuries-down-slightly-last-year-most-of-the-fatalities-were-pedestrians/\n",
    "\n"
   ]
  },
  {
   "cell_type": "markdown",
   "metadata": {},
   "source": []
  },
  {
   "cell_type": "markdown",
   "metadata": {},
   "source": []
  },
  {
   "cell_type": "code",
   "execution_count": null,
   "metadata": {},
   "outputs": [],
   "source": []
  }
 ],
 "metadata": {
  "kernelspec": {
   "display_name": "Python",
   "language": "python",
   "name": "conda-env-python-py"
  },
  "language_info": {
   "codemirror_mode": {
    "name": "ipython",
    "version": 3
   },
   "file_extension": ".py",
   "mimetype": "text/x-python",
   "name": "python",
   "nbconvert_exporter": "python",
   "pygments_lexer": "ipython3",
   "version": "3.6.11"
  }
 },
 "nbformat": 4,
 "nbformat_minor": 4
}
