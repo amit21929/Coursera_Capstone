{
 "cells": [
  {
   "cell_type": "markdown",
   "metadata": {},
   "source": [
    "# CAPSTONE PROJECT: ACCIDENT SEVERITY PREDICTION"
   ]
  },
  {
   "cell_type": "markdown",
   "metadata": {},
   "source": [
    "## 1.\tPROBLEM IDENTIFICATION"
   ]
  },
  {
   "cell_type": "markdown",
   "metadata": {},
   "source": [
    "### Seattle is a seaport city on the West Coast of the United States. Average daily traffic in this town is around 1 Million [1]. Every year approx. 200 fatal and serious injuries are caused on the road of Seattle. Including in these figures are fatal accident which has been in double digit since long time [2]. The goal of Seattle Department of Transportation is to reach zero accident each year. Accident on these roads are caused by various factors like weather, road condition, influence of alcohol etc. Accident on the roads also leads to long traffic jams and hence kill important time of travellers.\n",
    "\n",
    "### Problem statement of this project is to predict the accident severity so that target audience would drive more carefully or even change his/ her travel plan for given conditions.\n",
    "\n",
    "### Links:\n",
    "1.\thttps://www.seattle.gov/Documents/Departments/SDOT/About/DocumentLibrary/Reports/2018_Traffic_Report.pdf\n",
    "2.\thttps://www.seattletimes.com/seattle-news/transportation/seattle-traffic-deaths-and-injuries-down-slightly-last-year-most-of-the-fatalities-were-pedestrians/\n",
    "\n"
   ]
  },
  {
   "cell_type": "markdown",
   "metadata": {},
   "source": [
    "## 2.\tDATA DESCRIPTION"
   ]
  },
  {
   "cell_type": "markdown",
   "metadata": {},
   "source": [
    "### For this project we will take data “Collisions-All Years” from Seattle Department of Traffic (SDOT). This data set contains all types of collisions. Collisions will display at the intersection or mid-block of a segment. Timeframe for this dataset is from 2004. The dataset is downloaded from below link:\n",
    "https://s3.us.cloud-object-storage.appdomain.cloud/cf-courses-data/CognitiveClass/DP0701EN/version-2/Data-Collisions.csv\n",
    "\n",
    "### Important attributes of dataset that will be used to make the Machine Learning model can be understood as below:\n",
    "1.\tSEVERITYCODE: A code that corresponds to the severity of the collision: 1 is Property Damage & 2 is Injury.\n",
    "2.\tUNDERINFL: Whether a driver involved was under the influence of drugs or alcohol.\n",
    "3.\tWEATHER: A description of the weather conditions during the time of the collision.\n",
    "4.\tROADCOND: The condition of the road during the collision.\n",
    "5.\tLIGHTCOND: The light conditions during the collision.\n"
   ]
  },
  {
   "cell_type": "code",
   "execution_count": null,
   "metadata": {},
   "outputs": [],
   "source": []
  }
 ],
 "metadata": {
  "kernelspec": {
   "display_name": "Python",
   "language": "python",
   "name": "conda-env-python-py"
  },
  "language_info": {
   "codemirror_mode": {
    "name": "ipython",
    "version": 3
   },
   "file_extension": ".py",
   "mimetype": "text/x-python",
   "name": "python",
   "nbconvert_exporter": "python",
   "pygments_lexer": "ipython3",
   "version": "3.6.11"
  }
 },
 "nbformat": 4,
 "nbformat_minor": 4
}
