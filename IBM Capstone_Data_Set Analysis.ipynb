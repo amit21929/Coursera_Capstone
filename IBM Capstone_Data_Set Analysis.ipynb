{
 "cells": [
  {
   "cell_type": "markdown",
   "metadata": {},
   "source": [
    "## 2.\tDATA DESCRIPTION"
   ]
  },
  {
   "cell_type": "markdown",
   "metadata": {},
   "source": [
    "### For this project we will take data “Collisions-All Years” from Seattle Department of Traffic (SDOT). This data set contains all types of collisions. Collisions will display at the intersection or mid-block of a segment. Timeframe for this dataset is from 2004. The dataset is downloaded from below link:\n",
    "https://s3.us.cloud-object-storage.appdomain.cloud/cf-courses-data/CognitiveClass/DP0701EN/version-2/Data-Collisions.csv\n",
    "\n",
    "### Important attributes of dataset that will be used to make the Machine Learning model can be understood as below:\n",
    "1.\tSEVERITYCODE: A code that corresponds to the severity of the collision: 1 is for Property Damage & 2 is for Injury.\n",
    "2.\tUNDERINFL: Whether a driver involved was under the influence of drugs or alcohol. It is categorical variable and states Y & N for being under an influence or not respectively.\n",
    "3.\tWEATHER: A description of the weather conditions during the time of the collision. It is also a categorical variable with different weather conditions like \n",
    "4.\tROADCOND: The condition of the road during the collision. It is also a categorical variable with different road conditions like Dry, Oily, Sand/ Mud/ Dirt, Snow, Wet, Standing Water.\n",
    "5.\tLIGHTCOND: The light conditions during the collision. It is also a categorical variable with different light conditions like Dark-No Street Light, Dar-Street Light Off, Dark-Street Light On, Dawn, Daylight, Dusk etc. \n",
    "\n",
    "### There are other attributes as well which majorly defines post accident data points like place where accident took place, data & time, number of persons got injured etc. which were not relevant for making the model.\n"
   ]
  },
  {
   "cell_type": "code",
   "execution_count": null,
   "metadata": {},
   "outputs": [],
   "source": []
  }
 ],
 "metadata": {
  "kernelspec": {
   "display_name": "Python",
   "language": "python",
   "name": "conda-env-python-py"
  },
  "language_info": {
   "codemirror_mode": {
    "name": "ipython",
    "version": 3
   },
   "file_extension": ".py",
   "mimetype": "text/x-python",
   "name": "python",
   "nbconvert_exporter": "python",
   "pygments_lexer": "ipython3",
   "version": "3.6.11"
  }
 },
 "nbformat": 4,
 "nbformat_minor": 4
}
